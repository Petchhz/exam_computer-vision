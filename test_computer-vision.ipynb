{
 "cells": [
  {
   "cell_type": "code",
   "execution_count": 10,
   "id": "attractive-oakland",
   "metadata": {},
   "outputs": [],
   "source": [
    "import cv2\n",
    "import numpy as np"
   ]
  },
  {
   "cell_type": "code",
   "execution_count": 11,
   "id": "suspended-burst",
   "metadata": {},
   "outputs": [],
   "source": [
    "cap = cv2.VideoCapture(0)\n",
    "face_cascade = cv2.CascadeClassifier(r\"haarcascade_frontalface_default.xml\")\n",
    "eyes_cascade = cv2.CascadeClassifier(r\"haarcascade_eye.xml\")\n",
    "img2 = cv2.imread(\"heart.png\",cv2.IMREAD_UNCHANGED)"
   ]
  },
  {
   "cell_type": "code",
   "execution_count": 12,
   "id": "compact-superintendent",
   "metadata": {},
   "outputs": [],
   "source": [
    "while True:\n",
    "    _, img = cap.read()\n",
    "    img = cv2.flip(img,1)\n",
    "    gray = cv2.cvtColor(img, cv2.COLOR_BGR2GRAY)\n",
    "    faces = face_cascade.detectMultiScale(gray,2.3,4)   \n",
    "    eyes = eyes_cascade.detectMultiScale(gray,2.3,4)\n",
    "    \n",
    "    for(x1,y1,w1,h1) in eyes:\n",
    "        img3 = cv2.resize(img2,(w1,h1))\n",
    "        channels = cv2.split(img3)\n",
    "        mask = channels[3]\n",
    "        mask_inv = cv2.bitwise_not(mask)\n",
    "        roi = img[y1:y1+h1,x1:x1+w1]\n",
    "        img1_bg = cv2.bitwise_or(roi,roi,mask=mask_inv)\n",
    "        img3_fg = cv2.bitwise_and(img3[:,:,:3],img3[:,:,:3],mask=mask)\n",
    "        dst = cv2.add(img1_bg,img3_fg)\n",
    "        img[y1:y1+h1,x1:x1+w1] = dst\n",
    "    \n",
    "    for(x,y,w,h) in faces:\n",
    "        cv2.rectangle(img,(x,y),(x+w,y+h),(255,0,0))\n",
    "        cv2.putText(img,'Face',(x,y), cv2.FONT_HERSHEY_COMPLEX,0.5,(250,250,250),1)\n",
    "    \n",
    "    \n",
    "    cv2.imshow('img',img)\n",
    "    if cv2.waitKey(1) == ord('q'):\n",
    "        break\n",
    "cap.release()\n",
    "cv2.destroyAllWindows()"
   ]
  },
  {
   "cell_type": "code",
   "execution_count": null,
   "id": "purple-latitude",
   "metadata": {},
   "outputs": [],
   "source": []
  }
 ],
 "metadata": {
  "kernelspec": {
   "display_name": "Python 3.6 (tensorflow)",
   "language": "python",
   "name": "tensorflow"
  },
  "language_info": {
   "codemirror_mode": {
    "name": "ipython",
    "version": 3
   },
   "file_extension": ".py",
   "mimetype": "text/x-python",
   "name": "python",
   "nbconvert_exporter": "python",
   "pygments_lexer": "ipython3",
   "version": "3.8.5"
  }
 },
 "nbformat": 4,
 "nbformat_minor": 5
}
